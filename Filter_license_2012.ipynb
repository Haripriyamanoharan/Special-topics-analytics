{
  "nbformat": 4,
  "nbformat_minor": 0,
  "metadata": {
    "colab": {
      "provenance": []
    },
    "kernelspec": {
      "name": "python3",
      "display_name": "Python 3"
    },
    "language_info": {
      "name": "python"
    }
  },
  "cells": [
    {
      "cell_type": "code",
      "execution_count": 4,
      "metadata": {
        "id": "7eBi0IMTpIik"
      },
      "outputs": [],
      "source": [
        "import pandas as pd\n",
        "\n",
        "# Read the two CSV files into DataFrames\n",
        "licensing_data = pd.read_csv('licensing_data.csv')  # Replace with your actual file path\n",
        "licensing_2012_with_tickers = pd.read_csv('Licensing_2012_with_tickers.csv')  # Replace with your actual file path\n",
        "\n",
        "# Filter licensing_data based on Document_id\n",
        "filtered_data = licensing_data[licensing_data['Document_id'].isin(licensing_2012_with_tickers['Document_id'])]\n",
        "\n",
        "\n",
        "# Select only the 'Document_id' and 'Content' columns\n",
        "filtered_data = filtered_data[['Document_id', 'content']]\n",
        "\n",
        "# Save the filtered data to a new CSV file\n",
        "filtered_data.to_csv('result.csv', index=False)  # Replace with your desired output file path\n"
      ]
    }
  ]
}